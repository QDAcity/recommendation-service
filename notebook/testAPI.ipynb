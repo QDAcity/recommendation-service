{
 "cells": [
  {
   "cell_type": "code",
   "execution_count": 17,
   "metadata": {},
   "outputs": [],
   "source": [
    "import requests\n",
    "from uuid import UUID"
   ]
  },
  {
   "cell_type": "code",
   "execution_count": 19,
   "metadata": {},
   "outputs": [],
   "source": [
    "data = { \n",
    "    \"token\": UUID(\"0d95ba03-60b5-4626-91a7-34f0c9fe8414\"),\n",
    "    \"text\": \"string\"\n",
    "}\n",
    "headers = {'Content-type': 'application/json', 'accept': 'application/json'}\n",
    "response = requests.get(\"http://127.0.0.1:8000/recommendation\", \n",
    "                        params=data,\n",
    "                        headers=headers).json()\n",
    "response"
   ]
  }
 ],
 "metadata": {
  "kernelspec": {
   "display_name": "base",
   "language": "python",
   "name": "python3"
  },
  "language_info": {
   "codemirror_mode": {
    "name": "ipython",
    "version": 3
   },
   "file_extension": ".py",
   "mimetype": "text/x-python",
   "name": "python",
   "nbconvert_exporter": "python",
   "pygments_lexer": "ipython3",
   "version": "3.11.5"
  }
 },
 "nbformat": 4,
 "nbformat_minor": 2
}
